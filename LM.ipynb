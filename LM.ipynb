{
  "nbformat": 4,
  "nbformat_minor": 0,
  "metadata": {
    "colab": {
      "name": "LM.ipynb",
      "provenance": [],
      "collapsed_sections": [],
      "authorship_tag": "ABX9TyN39md4BXn3NVdITh1ZTiRm",
      "include_colab_link": true
    },
    "kernelspec": {
      "name": "python3",
      "display_name": "Python 3"
    }
  },
  "cells": [
    {
      "cell_type": "markdown",
      "metadata": {
        "id": "view-in-github",
        "colab_type": "text"
      },
      "source": [
        "<a href=\"https://colab.research.google.com/github/ipavlopoulos/context_toxicity/blob/master/LM.ipynb\" target=\"_parent\"><img src=\"https://colab.research.google.com/assets/colab-badge.svg\" alt=\"Open In Colab\"/></a>"
      ]
    },
    {
      "cell_type": "code",
      "metadata": {
        "id": "fEpetvet5Q6E",
        "colab_type": "code",
        "colab": {}
      },
      "source": [
        "! git clone https://github.com/ipavlopoulos/lm.git"
      ],
      "execution_count": 0,
      "outputs": []
    },
    {
      "cell_type": "markdown",
      "metadata": {
        "id": "BtENc19Y6UFB",
        "colab_type": "text"
      },
      "source": [
        "# Character based Language Modeling"
      ]
    },
    {
      "cell_type": "code",
      "metadata": {
        "id": "3dthskXS5VVA",
        "colab_type": "code",
        "colab": {
          "base_uri": "https://localhost:8080/",
          "height": 54
        },
        "outputId": "0b3333da-a113-4c3d-ada3-383fd0032583"
      },
      "source": [
        "from lm.markov.models import LM\n",
        "clm = LM(gram=\"CHAR\").train(\" \".join([\"this\", \"is\", \"an\", \"example\", \"this\", \"an\"]))\n",
        "clm.generate_text()"
      ],
      "execution_count": 4,
      "outputs": [
        {
          "output_type": "execute_result",
          "data": {
            "text/plain": [
              "'this is an example this an example this is an example this is an example this is an example this is an example this an example this an example this is an example this an example this an example this an example this is an example this is an example this is an example this is an example this an example this an example this an example this is an example this is an example this an example this is an example this is an example this is an example this is an example this an example this an example this is an example this an example this an example this an example this an example this is an example this is an example this an example this is an example this an example this an example this an example this an example this is an example this is an example this an example this is an example this an example this is an example this an example this an example this is an example this is an example this is an example this is an example this is an example this is an example this an example this is an exa'"
            ]
          },
          "metadata": {
            "tags": []
          },
          "execution_count": 4
        }
      ]
    },
    {
      "cell_type": "markdown",
      "metadata": {
        "id": "pBvbq7g46RoN",
        "colab_type": "text"
      },
      "source": [
        "# Word based Language Modeling\n",
        "Use `n` to change the number of preceding grams. "
      ]
    },
    {
      "cell_type": "code",
      "metadata": {
        "id": "oOB-2E365ja3",
        "colab_type": "code",
        "colab": {
          "base_uri": "https://localhost:8080/",
          "height": 54
        },
        "outputId": "9045972a-7a35-4e27-eaa2-5b1ed43f42c2"
      },
      "source": [
        "wlm = LM(gram=\"WORD\").train([\"this\", \"is\", \"an\", \"example\", \"this\", \"an\"])\n",
        "wlm.generate_text()"
      ],
      "execution_count": 7,
      "outputs": [
        {
          "output_type": "execute_result",
          "data": {
            "text/plain": [
              "'this is an example this an this example an an this is this example example example an example this an an an example example an this an this this example an example an this an this example example is an is this an this an this this this this this an example an an this this this example example example is an this example this example an an an this this is this example an an an an is this is is an example is an example is an an an an an an this an an this example this an this example this example is an an an an example is an example an example an example this example an an is example example this an example an is this an an an example is this example an this example an this an an this an this an example this this is this an this an this an is an is this an an an an this an example is an this is an example this an an an an this an this an is this example an this this is is example is this example example an this example an example is example this this an an an this an is this is this is this is an this is is example is example is this example an is an this an an this this this an is this this this this an this this an example an is this example this is example example is example an an this is this an is example this an an an this this an an an this example this this is example this is example this this this an is an is example an example an this this example an is is is an an this this this this this is is an this this example example is this an example example an is this an an an an this this example example example example an an this is is an this this this this an an is an example example example an an an an is is an this an is an this an example example an an an this example is this an example is an is this this this an is is example is this an is this is this this this this this this this example an is this example this an this an this an an this this this an is this is this example this this this this is this this is is this example this this example example an example an this an this this example this this example this example example an this is this example example an this an an is is an is example an is example is example example an this this this an is this this example this example this this this this an an this example is example an example example example this this example is this this example this an this example this an this example example is an is an an this an example example this example is this an an this this this example this this example an an example example is example example example an this this this this example this example is is is example this this this this example an an example example an example an example an an this is example example example an this this is this an is example this an an an this this is example this example this an an an this example an this is is is an this example this example an this example an this an this an an an example is an an this is this this an an example this this example example this an is example is example an this is an is this example example this is an an this an an this this this example an this example an an an example is example an is this an this this is an is an is example this an this this this this this an an this example example an an is this an example example this example this an an example example an an this this this is an an example this an is is example this this this example this example an an this an an is is this an this this an this this an an an an this an this an an this this is an an example an an is is an an is an this example an example an example an this an example an example an this is an this an this this an an this this is example this is example this is an this an is an an an example this is is example example an an an this an an this this is is this an example this an an this this an this this this this this is an is this an this this is an an this this is example an example example this this an is is an an is this example an an is an is this is is an this this example an an example an an an an example this this this is an this an an this this example this an an is an an an this is an an an this an this an this an an example this an an example is this an example is an an is is this this this an this example is example this is is this is this example is an an this this is is this this this an this example this an an is is is this this this is this an this this this is this is this this this this is this is this an an example this an this this example example an an is example example an an this is this this an an this this this example'"
            ]
          },
          "metadata": {
            "tags": []
          },
          "execution_count": 7
        }
      ]
    },
    {
      "cell_type": "markdown",
      "metadata": {
        "id": "zcmihlx46IwT",
        "colab_type": "text"
      },
      "source": [
        "# Recurrent Neural Network LM"
      ]
    },
    {
      "cell_type": "code",
      "metadata": {
        "id": "YHhyTGam5vol",
        "colab_type": "code",
        "colab": {
          "base_uri": "https://localhost:8080/",
          "height": 105
        },
        "outputId": "1c7178bc-cc2f-4ad2-ccc2-a6ecf29d1376"
      },
      "source": [
        "from lm.neural.models import RNN\n",
        "rnn = RNN(epochs=1)\n",
        "data = \"\"\"Jack and Jill went up the hill\\n\n",
        "          To fetch a pail of water\\n\n",
        "\t\t      Jack fell down and broke his crown\\n\n",
        "          And Jill came tumbling after\\n \"\"\"\n",
        "rnn.train(data)\n",
        "rnn.cross_entropy(\"Jack fell down and broke his crown\\n\")"
      ],
      "execution_count": 6,
      "outputs": [
        {
          "output_type": "stream",
          "text": [
            "Vocabulary Size: 10000\n",
            "Total Sequences: 19\n",
            "1/1 [==============================] - 0s 461ms/step - loss: 9.2104 - accuracy: 0.0000e+00 - val_loss: 9.2098 - val_accuracy: 0.0000e+00\n"
          ],
          "name": "stdout"
        },
        {
          "output_type": "execute_result",
          "data": {
            "text/plain": [
              "13.287083"
            ]
          },
          "metadata": {
            "tags": []
          },
          "execution_count": 6
        }
      ]
    },
    {
      "cell_type": "code",
      "metadata": {
        "id": "cGiAbmSt6HVs",
        "colab_type": "code",
        "colab": {}
      },
      "source": [
        ""
      ],
      "execution_count": 0,
      "outputs": []
    }
  ]
}